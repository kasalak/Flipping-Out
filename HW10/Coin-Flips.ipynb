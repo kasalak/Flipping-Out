{
 "cells": [
  {
   "cell_type": "code",
   "execution_count": 1,
   "metadata": {
    "collapsed": false
   },
   "outputs": [],
   "source": [
    "import math\n",
    "import random\n",
    "import statistics as st\n",
    "import matplotlib.pyplot as plt"
   ]
  },
  {
   "cell_type": "code",
   "execution_count": 2,
   "metadata": {
    "collapsed": false
   },
   "outputs": [],
   "source": [
    "%matplotlib inline"
   ]
  },
  {
   "cell_type": "code",
   "execution_count": 21,
   "metadata": {
    "collapsed": false,
    "scrolled": true
   },
   "outputs": [
    {
     "data": {
      "text/plain": [
       "'Tails'"
      ]
     },
     "execution_count": 21,
     "metadata": {},
     "output_type": "execute_result"
    }
   ],
   "source": [
    "def coin_toss():\n",
    "    flip = random.randint(0,1)\n",
    "    if flip == 0:\n",
    "        return \"Heads\"\n",
    "    else:\n",
    "        return \"Tails\"\n",
    "coin_toss()"
   ]
  },
  {
   "cell_type": "code",
   "execution_count": 27,
   "metadata": {
    "collapsed": false
   },
   "outputs": [
    {
     "name": "stdout",
     "output_type": "stream",
     "text": [
      "[(0, 1), (0, 2), (2, 2), (4, 4), (8, 8), (16, 16), (27, 37), (53, 75), (116, 140), (261, 251), (504, 520), (1026, 1022), (2084, 2012), (4222, 3970), (8385, 7999), (16614, 16154), (32840, 32696)]\n"
     ]
    }
   ],
   "source": [
    "def coin_toss_sim(n):\n",
    "    num_heads = 0\n",
    "    num_tails = 0\n",
    "    coin_tosses = []\n",
    "    for i in range(n):\n",
    "        flip = random.randint(0,1)\n",
    "        if flip == 0:\n",
    "            num_heads += 1\n",
    "        else:\n",
    "            num_tails += 1\n",
    "        if math.log2(i+1) % 1 == 0:\n",
    "            coin_tosses.append((num_heads, num_tails))\n",
    "    return coin_tosses\n",
    "\n",
    "print(coin_toss_sim(2**16))"
   ]
  },
  {
   "cell_type": "code",
   "execution_count": 28,
   "metadata": {
    "collapsed": false
   },
   "outputs": [
    {
     "name": "stdout",
     "output_type": "stream",
     "text": [
      "[1, 2, 0, 0, 2, 6, 6, 8, 4, 14, 46, 66, 20, 88, 166, 12, 104]\n"
     ]
    }
   ],
   "source": [
    "def difference(tuple_list):\n",
    "    diff_between_tosses = []\n",
    "    for (heads,tails) in tuple_list:\n",
    "        diff_between_tosses.append(abs(heads-tails))\n",
    "    return diff_between_tosses\n",
    "print(difference(coin_toss_sim(2**16)))\n",
    "        \n",
    "    \n",
    "    \n",
    "    \n",
    "        \n",
    "    "
   ]
  },
  {
   "cell_type": "code",
   "execution_count": 29,
   "metadata": {
    "collapsed": false,
    "scrolled": false
   },
   "outputs": [
    {
     "data": {
      "image/png": "[encoded data removed]",
      "text/plain": [
       "<matplotlib.figure.Figure at 0x104d92358>"
      ]
     },
     "metadata": {},
     "output_type": "display_data"
    }
   ],
   "source": [
    "plt.plot(difference(coin_toss_sim(2**16)))\n",
    "plt.show()"
   ]
  },
  {
   "cell_type": "code",
   "execution_count": 30,
   "metadata": {
    "collapsed": false
   },
   "outputs": [
    {
     "name": "stdout",
     "output_type": "stream",
     "text": [
      "[1.0, 0.5, 0.5, 0.5, 0.4375, 0.5, 0.515625, 0.5, 0.52734375, 0.55078125, 0.5224609375, 0.5146484375, 0.5068359375, 0.5015869140625, 0.5001220703125, 0.502471923828125, 0.49981689453125]\n"
     ]
    }
   ],
   "source": [
    "def heads_to_tails_ratio(tuple_list):\n",
    "    ratio = []\n",
    "    for (heads,tails) in tuple_list:\n",
    "        ratio.append((heads/(heads+tails)))\n",
    "    return ratio\n",
    "print(heads_to_tails_ratio(coin_toss_sim(2**16)))"
   ]
  },
  {
   "cell_type": "code",
   "execution_count": 32,
   "metadata": {
    "collapsed": false,
    "scrolled": true
   },
   "outputs": [
    {
     "data": {
      "image/png": "[encoded data removed]",
      "text/plain": [
       "<matplotlib.figure.Figure at 0x104df1e10>"
      ]
     },
     "metadata": {},
     "output_type": "display_data"
    }
   ],
   "source": [
    "plt.plot(heads_to_tails_ratio(coin_toss_sim(2**16)))\n",
    "plt.show()"
   ]
  },
  {
   "cell_type": "code",
   "execution_count": 37,
   "metadata": {
    "collapsed": false
   },
   "outputs": [
    {
     "data": {
      "image/png": "[encoded data removed]",
      "text/plain": [
       "<matplotlib.figure.Figure at 0x104f69470>"
      ]
     },
     "metadata": {},
     "output_type": "display_data"
    }
   ],
   "source": [
    "x_intervals = [2**0, 2**1, 2**2, 2**3, 2**4, 2**5, 2**6, 2**7, 2**8, 2**9, 2**10, 2**11, 2**12, 2**13, 2**14, 2**15, 2**16]\n",
    "\n",
    "plt.scatter(x_intervals, difference(coin_toss_sim(2**16)))\n",
    "plt.xscale('log')\n",
    "plt.show()"
   ]
  },
  {
   "cell_type": "code",
   "execution_count": 38,
   "metadata": {
    "collapsed": false,
    "scrolled": true
   },
   "outputs": [
    {
     "data": {
      "image/png": "[encoded data removed]",
      "text/plain": [
       "<matplotlib.figure.Figure at 0x104bb2358>"
      ]
     },
     "metadata": {},
     "output_type": "display_data"
    }
   ],
   "source": [
    "plt.scatter(x_intervals, heads_to_tails_ratio(coin_toss_sim(2**16)))\n",
    "plt.xscale('log')\n",
    "plt.show()"
   ]
  },
  {
   "cell_type": "markdown",
   "metadata": {},
   "source": [
    "Not sure why values don't stay at .5 for the intervals past 1000 flips for the differences plot; must be because even though there should be a 50/50 chance of returning either heads or tails, it's possible to return one result over and over again. Other than that, in the ratio plot, it shows that regardless, the number of flips will return close to a 50% chance of heads or tails. "
   ]
  },
  {
   "cell_type": "code",
   "execution_count": 98,
   "metadata": {
    "collapsed": false,
    "scrolled": true
   },
   "outputs": [
    {
     "data": {
      "image/png": "[encoded data removed]",
      "text/plain": [
       "<matplotlib.figure.Figure at 0x104e205f8>"
      ]
     },
     "metadata": {},
     "output_type": "display_data"
    }
   ],
   "source": [
    "def twenty_trials():\n",
    "    more_ratios = []\n",
    "    for x in range(20):\n",
    "        more_ratios.append(heads_to_tails_ratio(coin_toss_sim(2**16)))\n",
    "    return more_ratios\n",
    "\n",
    "mean_ratios = []\n",
    "for x in list(zip(*twenty_trials())):\n",
    "    mean_ratios.append(st.mean(x))\n",
    "\n",
    "plt.scatter(x_intervals, mean_ratios)\n",
    "plt.xscale('log')\n",
    "plt.show()\n"
   ]
  },
  {
   "cell_type": "code",
   "execution_count": 103,
   "metadata": {
    "collapsed": false
   },
   "outputs": [
    {
     "data": {
      "image/png": "[encoded data removed]",
      "text/plain": [
       "<matplotlib.figure.Figure at 0x104e926a0>"
      ]
     },
     "metadata": {},
     "output_type": "display_data"
    }
   ],
   "source": [
    "std_dev = []\n",
    "for x in list(zip(*twenty_trials())):\n",
    "    std_dev.append(st.stdev(x))\n",
    "\n",
    "plt.scatter(x_intervals, std_dev)\n",
    "plt.xscale('log')\n",
    "plt.yscale('log')\n",
    "plt.show()\n"
   ]
  },
  {
   "cell_type": "markdown",
   "metadata": {},
   "source": [
    "Before using a logarithmic scale for the y-axis, the standard deviation had a plot line resembling an asymptotic function approaching 0.0 on the x axis, as shown above. With a y-axis on a logarithmic scale, the graph looks like the following, which probably follows the 68-95-99.7 rule that some people use. "
   ]
  },
  {
   "cell_type": "code",
   "execution_count": 105,
   "metadata": {
    "collapsed": false
   },
   "outputs": [
    {
     "data": {
      "image/png": "[encoded data removed]",
      "text/plain": [
       "<matplotlib.figure.Figure at 0x1051184e0>"
      ]
     },
     "metadata": {},
     "output_type": "display_data"
    }
   ],
   "source": [
    "std_dev = []\n",
    "for x in list(zip(*twenty_trials())):\n",
    "    std_dev.append(st.stdev(x))\n",
    "\n",
    "plt.scatter(x_intervals, std_dev)\n",
    "plt.xscale('log')\n",
    "plt.yscale('log')\n",
    "plt.show()"
   ]
  },
  {
   "cell_type": "code",
   "execution_count": null,
   "metadata": {
    "collapsed": true
   },
   "outputs": [],
   "source": []
  }
 ],
 "metadata": {
  "kernelspec": {
   "display_name": "Python 3",
   "language": "python",
   "name": "python3"
  },
  "language_info": {
   "codemirror_mode": {
    "name": "ipython",
    "version": 3
   },
   "file_extension": ".py",
   "mimetype": "text/x-python",
   "name": "python",
   "nbconvert_exporter": "python",
   "pygments_lexer": "ipython3",
   "version": "3.4.3"
  }
 },
 "nbformat": 4,
 "nbformat_minor": 0
}
